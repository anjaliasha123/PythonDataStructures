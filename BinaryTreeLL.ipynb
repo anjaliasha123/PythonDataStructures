{
  "nbformat": 4,
  "nbformat_minor": 0,
  "metadata": {
    "colab": {
      "name": "BinaryTreeLL.ipynb",
      "provenance": [],
      "authorship_tag": "ABX9TyOrVVNrZaXQtDQ6yupp1n5+",
      "include_colab_link": true
    },
    "kernelspec": {
      "name": "python3",
      "display_name": "Python 3"
    },
    "language_info": {
      "name": "python"
    }
  },
  "cells": [
    {
      "cell_type": "markdown",
      "metadata": {
        "id": "view-in-github",
        "colab_type": "text"
      },
      "source": [
        "<a href=\"https://colab.research.google.com/github/anjaliasha123/PythonDataStructures/blob/main/BinaryTreeLL.ipynb\" target=\"_parent\"><img src=\"https://colab.research.google.com/assets/colab-badge.svg\" alt=\"Open In Colab\"/></a>"
      ]
    },
    {
      "cell_type": "markdown",
      "metadata": {
        "id": "KKzWU-vdTBWr"
      },
      "source": [
        "Creation of node\n",
        "\n",
        "\n",
        "\n",
        "* insertion of node\n",
        "* deletion of node\n",
        "* search for value\n",
        "* traverse all nodes\n",
        "* deletion of node"
      ]
    },
    {
      "cell_type": "code",
      "metadata": {
        "id": "Lxu9kwb9Mq2m"
      },
      "source": [
        "class TreeNode:\n",
        "  def __init__(self, data):\n",
        "    self.data = data\n",
        "    self.leftChild = None\n",
        "    self.rightChild = None\n",
        "\n",
        "  "
      ],
      "execution_count": 1,
      "outputs": []
    },
    {
      "cell_type": "code",
      "metadata": {
        "id": "mcdeuSdYY17S"
      },
      "source": [
        "tree = TreeNode(\"Drinks\")\n",
        "leftNode = TreeNode(\"Hot\")\n",
        "teaNode = TreeNode(\"Tea\")\n",
        "coffeeNode = TreeNode(\"Coffee\")\n",
        "leftNode.leftChild = teaNode\n",
        "leftNode.rightChild = coffeeNode\n",
        "rightNode = TreeNode(\"Cold\")\n",
        "sodaNode = TreeNode(\"Soda\")\n",
        "colaNode = TreeNode(\"Cola\")\n",
        "rightNode.leftChild = sodaNode\n",
        "rightNode.rightChild = colaNode\n",
        "tree.leftChild = leftNode\n",
        "tree.rightChild = rightNode\n"
      ],
      "execution_count": 14,
      "outputs": []
    },
    {
      "cell_type": "code",
      "metadata": {
        "id": "Hmkyh49AY7L_"
      },
      "source": [
        "def preOrderTraversal(rootNode):\n",
        "  if rootNode == None:\n",
        "    return \n",
        "  print(rootNode.data)\n",
        "  preOrderTraversal(rootNode.leftChild)\n",
        "  preOrderTraversal(rootNode.rightChild)"
      ],
      "execution_count": 4,
      "outputs": []
    },
    {
      "cell_type": "code",
      "metadata": {
        "colab": {
          "base_uri": "https://localhost:8080/"
        },
        "id": "SCjCtIYl58VS",
        "outputId": "e0a94d35-9ee1-481f-d10e-a4ee5400bed5"
      },
      "source": [
        "preOrderTraversal(tree)"
      ],
      "execution_count": 5,
      "outputs": [
        {
          "output_type": "stream",
          "name": "stdout",
          "text": [
            "Drinks\n",
            "Hot\n",
            "Cold\n"
          ]
        }
      ]
    },
    {
      "cell_type": "code",
      "metadata": {
        "id": "orPL5YLg-HgI"
      },
      "source": [
        "def inOrderTraversal(rootNode):\n",
        "  if rootNode == None:\n",
        "    return\n",
        "  inOrderTraversal(rootNode.leftChild)\n",
        "  print(rootNode.data)\n",
        "  inOrderTraversal(rootNode.rightChild)"
      ],
      "execution_count": 6,
      "outputs": []
    },
    {
      "cell_type": "code",
      "metadata": {
        "colab": {
          "base_uri": "https://localhost:8080/"
        },
        "id": "tZT4jjc_6Bes",
        "outputId": "8893324e-fb01-4aaa-8873-58c36a1a3e74"
      },
      "source": [
        "inOrderTraversal(tree)"
      ],
      "execution_count": 7,
      "outputs": [
        {
          "output_type": "stream",
          "name": "stdout",
          "text": [
            "Hot\n",
            "Drinks\n",
            "Cold\n"
          ]
        }
      ]
    },
    {
      "cell_type": "code",
      "metadata": {
        "id": "KPvNozAG-Zs0"
      },
      "source": [
        "def postOrderTraversal(rootNode):\n",
        "  if rootNode == None:\n",
        "    return\n",
        "  postOrderTraversal(rootNode.leftChild)\n",
        "  postOrderTraversal(rootNode.rightChild)\n",
        "  print(rootNode.data)\n",
        "  "
      ],
      "execution_count": 12,
      "outputs": []
    },
    {
      "cell_type": "code",
      "metadata": {
        "colab": {
          "base_uri": "https://localhost:8080/"
        },
        "id": "iK6zK7GkB_Sx",
        "outputId": "dca10b87-7d45-49b5-c5c0-bb96c9af3da0"
      },
      "source": [
        "postOrderTraversal(tree)"
      ],
      "execution_count": 15,
      "outputs": [
        {
          "output_type": "stream",
          "name": "stdout",
          "text": [
            "Tea\n",
            "Coffee\n",
            "Hot\n",
            "Soda\n",
            "Cola\n",
            "Cold\n",
            "Drinks\n"
          ]
        }
      ]
    },
    {
      "cell_type": "code",
      "metadata": {
        "id": "gNY8zqlBCBQx"
      },
      "source": [
        ""
      ],
      "execution_count": null,
      "outputs": []
    }
  ]
}