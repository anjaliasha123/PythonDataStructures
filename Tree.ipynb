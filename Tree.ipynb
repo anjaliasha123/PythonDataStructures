{
  "nbformat": 4,
  "nbformat_minor": 0,
  "metadata": {
    "colab": {
      "name": "Tree.ipynb",
      "provenance": [],
      "authorship_tag": "ABX9TyOO0fMyY97PBKBRap6pQLc1",
      "include_colab_link": true
    },
    "kernelspec": {
      "name": "python3",
      "display_name": "Python 3"
    },
    "language_info": {
      "name": "python"
    }
  },
  "cells": [
    {
      "cell_type": "markdown",
      "metadata": {
        "id": "view-in-github",
        "colab_type": "text"
      },
      "source": [
        "<a href=\"https://colab.research.google.com/github/anjaliasha123/PythonDataStructures/blob/main/Tree.ipynb\" target=\"_parent\"><img src=\"https://colab.research.google.com/assets/colab-badge.svg\" alt=\"Open In Colab\"/></a>"
      ]
    },
    {
      "cell_type": "code",
      "metadata": {
        "id": "nDnYdfC-xzt0"
      },
      "source": [
        "class TreeNode:\n",
        "\n",
        "  def __init__(self, data, children=[]):\n",
        "    self.data = data\n",
        "    self.children = children\n",
        "\n",
        "  def __str__(self, level=0):\n",
        "    ret = \" \" * level + str(self.data) + \"\\n\"\n",
        "    for child in self.children:\n",
        "      ret += child.__str__(level+1)\n",
        "    return ret\n",
        "\n",
        "  def addChild(self, TreeNode):\n",
        "    self.children.append(TreeNode)"
      ],
      "execution_count": 1,
      "outputs": []
    },
    {
      "cell_type": "code",
      "metadata": {
        "id": "ghj0txz3AX8p"
      },
      "source": [
        "tree = TreeNode('Drinks', [])\n",
        "cold = TreeNode('Cold', [])\n",
        "hot = TreeNode('Hot',[])\n",
        "tree.addChild(cold)\n",
        "tree.addChild(hot)"
      ],
      "execution_count": 2,
      "outputs": []
    },
    {
      "cell_type": "code",
      "metadata": {
        "colab": {
          "base_uri": "https://localhost:8080/"
        },
        "id": "SaZQZ3D_Bfsk",
        "outputId": "2e95c605-d112-4c6c-9621-c06c984954d1"
      },
      "source": [
        "tea = TreeNode('Tea', [])\n",
        "coffee = TreeNode('Coffee',[])\n",
        "fanta = TreeNode('Fanta', [])\n",
        "cola = TreeNode('Cola',[])\n",
        "soda = TreeNode('Soda',[])\n",
        "hot.addChild(tea)\n",
        "hot.addChild(coffee)\n",
        "cold.addChild(cola)\n",
        "cold.addChild(fanta)\n",
        "cold.addChild(soda)\n",
        "print(tree)"
      ],
      "execution_count": 4,
      "outputs": [
        {
          "output_type": "stream",
          "name": "stdout",
          "text": [
            "Drinks\n",
            " Cold\n",
            "  Cola\n",
            "  Fanta\n",
            "  Soda\n",
            " Hot\n",
            "  Tea\n",
            "  Coffee\n",
            "\n"
          ]
        }
      ]
    },
    {
      "cell_type": "code",
      "metadata": {
        "id": "qYi8Cf9vBgwk"
      },
      "source": [
        ""
      ],
      "execution_count": null,
      "outputs": []
    }
  ]
}